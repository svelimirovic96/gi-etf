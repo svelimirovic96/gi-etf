{
 "cells": [
  {
   "cell_type": "markdown",
   "id": "1e2c6bff-369b-4d61-b9e8-282013d1200f",
   "metadata": {
    "tags": []
   },
   "source": [
    "**GI domaći zadatak 2**"
   ]
  },
  {
   "cell_type": "code",
   "execution_count": 1,
   "id": "2928937a-36d8-4f15-b0ca-1253c0250318",
   "metadata": {},
   "outputs": [
    {
     "name": "stdout",
     "output_type": "stream",
     "text": [
      "Collecting pysam\n",
      "  Downloading pysam-0.18.0-cp39-cp39-manylinux_2_12_x86_64.manylinux2010_x86_64.whl (15.6 MB)\n",
      "\u001b[2K     \u001b[90m━━━━━━━━━━━━━━━━━━━━━━━━━━━━━━━━━━━━━━━━\u001b[0m \u001b[32m15.6/15.6 MB\u001b[0m \u001b[31m1.2 MB/s\u001b[0m eta \u001b[36m0:00:00\u001b[0m00:01\u001b[0m00:01\u001b[0mm\n",
      "\u001b[?25hInstalling collected packages: pysam\n",
      "Successfully installed pysam-0.18.0\n"
     ]
    }
   ],
   "source": [
    "#docker run -p 8888:8888 jupyter/minimal-notebook \n",
    "!pip install pysam"
   ]
  },
  {
   "cell_type": "code",
   "execution_count": 2,
   "id": "a33c3123-aea1-49b8-8f96-cc23fab07bf0",
   "metadata": {},
   "outputs": [],
   "source": [
    "import pysam"
   ]
  },
  {
   "cell_type": "code",
   "execution_count": 3,
   "id": "04aa4a78-8e0c-4a5e-bf5e-a344c2c3fe4a",
   "metadata": {},
   "outputs": [
    {
     "data": {
      "text/plain": [
       "0"
      ]
     },
     "execution_count": 3,
     "metadata": {},
     "output_type": "execute_result"
    }
   ],
   "source": [
    "save = pysam.set_verbosity(0)\n",
    "bamfile=pysam.AlignmentFile(\"merged-tumor.bam\",\"rb\")\n",
    "pysam.set_verbosity(save)"
   ]
  },
  {
   "cell_type": "code",
   "execution_count": 4,
   "id": "1531a1b3-a27f-49cb-9bff-5b5eca245f69",
   "metadata": {},
   "outputs": [
    {
     "name": "stdout",
     "output_type": "stream",
     "text": [
      "Informacije o  1 . read-u:\n",
      "C0HVYACXX120402:7:1207:5722:57044\t1187\t#20\t9483249\t27\t76M\t#20\t9483382\t209\tTTTTCAAACAGTATCTATGCCTGCCAAATGTGAACATATAAAAAAAAACCAGAATGTGCCATTCTGATTTAAACTG\tarray('B', [28, 28, 27, 29, 31, 30, 31, 31, 29, 31, 35, 30, 29, 31, 34, 30, 29, 23, 41, 32, 20, 30, 29, 34, 34, 29, 30, 31, 30, 30, 30, 33, 33, 26, 39, 12, 25, 19, 32, 30, 35, 28, 35, 33, 23, 33, 35, 36, 30, 38, 33, 41, 34, 35, 31, 33, 23, 30, 30, 36, 27, 32, 29, 34, 35, 41, 33, 31, 33, 29, 32, 32, 31, 31, 31, 34])\t[('XA', 'GL000217.1,-110754,76M,1;'), ('BD', 'NNNNNNNNNNNNNNNNNNNNNNNNNNNNNNNNNNNNNNNNNNNNNNNNNNNNNNNNNNNNNNNNNNNNNNNNNNNN'), ('MD', '76'), ('RG', '1'), ('BI', 'NNNNNNNNNNNNNNNNNNNNNNNNNNNNNNNNNNNNNNNNNNNNNNNNNNNNNNNNNNNNNNNNNNNNNNNNNNNN'), ('NM', 0), ('MQ', 27), ('AS', 76), ('XS', 71)]\n",
      "\n",
      "\n",
      "QNAME  1 : C0HVYACXX120402:7:1207:5722:57044\n",
      "FLAG  1 : 1187\n",
      "RNAME  1 : 20\n",
      "POS  1 : 9483248\n",
      "MAPQ  1 : 27\n",
      "CIGAR  1 : 76M\n",
      "MRNM  1 : 20\n",
      "MPOS  1 : 9483381\n",
      "ISIZE  1 : 209\n",
      "SEQ  1 : TTTTCAAACAGTATCTATGCCTGCCAAATGTGAACATATAAAAAAAAACCAGAATGTGCCATTCTGATTTAAACTG\n",
      "QUAL  1 : ==<>@?@@>@D?>@C?>8JA5?>CC>?@???BB;H-:4A?D=DB8BDE?GBJCD@B8??E<A>CDJB@B>AA@@@C\n",
      "TAGS  1 : [('XA', 'GL000217.1,-110754,76M,1;'), ('BD', 'NNNNNNNNNNNNNNNNNNNNNNNNNNNNNNNNNNNNNNNNNNNNNNNNNNNNNNNNNNNNNNNNNNNNNNNNNNNN'), ('MD', '76'), ('RG', '1'), ('BI', 'NNNNNNNNNNNNNNNNNNNNNNNNNNNNNNNNNNNNNNNNNNNNNNNNNNNNNNNNNNNNNNNNNNNNNNNNNNNN'), ('NM', 0), ('MQ', 27), ('AS', 76), ('XS', 71)]\n",
      "\n",
      "Informacije o flegu read-a  1 :\n",
      "Uparen read u sekvenciranju:  True\n",
      "Mapiran read u svom paru:  True\n",
      "Nemapiran read:  False\n",
      "Nemapiran par read-a:  False\n",
      "Reverse/forward strand:  False\n",
      "Reverse/forward strand para:  True\n",
      "Read je prvi read u paru:  False\n",
      "Read je drugi read u paru:  True\n",
      "Poravnanje nije primarno: False\n",
      "Read nije uspešno proverio kvalitet: False\n",
      "Read je ili PCR ili optički duplikat: True\n",
      "\n",
      "\n",
      "Informacije o  2 . read-u:\n",
      "D0RE2ACXX120401:1:2105:2631:113383\t163\t#20\t9483249\t27\t76M\t#20\t9483382\t209\tTTTTCAAACAGTATCTATGCCTGCCAAATGTGAACATATAAAAAAAAACCAGAATGTGCCATTCTGATTTAAACTG\tarray('B', [28, 29, 27, 30, 31, 30, 31, 31, 34, 31, 40, 30, 29, 34, 41, 34, 29, 33, 39, 40, 37, 36, 30, 39, 36, 34, 29, 35, 26, 41, 31, 33, 31, 35, 39, 34, 34, 29, 34, 31, 36, 37, 35, 35, 33, 35, 36, 35, 40, 37, 34, 39, 30, 29, 28, 15, 19, 30, 36, 36, 36, 33, 33, 38, 34, 37, 33, 30, 33, 33, 29, 34, 32, 30, 31, 29])\t[('XA', 'GL000217.1,-110754,76M,1;'), ('BD', 'NNNNNNNNNNNNNNNNNNNNNNNNNNNNNNNNNNNNNNNNNNNNNNNNNNNNNNNNNNNNNNNNNNNNNNNNNNNN'), ('MD', '76'), ('RG', '1'), ('BI', 'NNNNNNNNNNNNNNNNNNNNNNNNNNNNNNNNNNNNNNNNNNNNNNNNNNNNNNNNNNNNNNNNNNNNNNNNNNNN'), ('NM', 0), ('MQ', 27), ('AS', 76), ('XS', 71)]\n",
      "\n",
      "\n",
      "QNAME  2 : D0RE2ACXX120401:1:2105:2631:113383\n",
      "FLAG  2 : 163\n",
      "RNAME  2 : 20\n",
      "POS  2 : 9483248\n",
      "MAPQ  2 : 27\n",
      "CIGAR  2 : 76M\n",
      "MRNM  2 : 20\n",
      "MPOS  2 : 9483381\n",
      "ISIZE  2 : 209\n",
      "SEQ  2 : TTTTCAAACAGTATCTATGCCTGCCAAATGTGAACATATAAAAAAAAACCAGAATGTGCCATTCTGATTTAAACTG\n",
      "QUAL  2 : =><?@?@@C@I?>CJC>BHIFE?HEC>D;J@B@DHCC>C@EFDDBDEDIFCH?>=04?EEEBBGCFB?BB>CA?@>\n",
      "TAGS  2 : [('XA', 'GL000217.1,-110754,76M,1;'), ('BD', 'NNNNNNNNNNNNNNNNNNNNNNNNNNNNNNNNNNNNNNNNNNNNNNNNNNNNNNNNNNNNNNNNNNNNNNNNNNNN'), ('MD', '76'), ('RG', '1'), ('BI', 'NNNNNNNNNNNNNNNNNNNNNNNNNNNNNNNNNNNNNNNNNNNNNNNNNNNNNNNNNNNNNNNNNNNNNNNNNNNN'), ('NM', 0), ('MQ', 27), ('AS', 76), ('XS', 71)]\n",
      "\n",
      "Informacije o flegu read-a  2 :\n",
      "Uparen read u sekvenciranju:  True\n",
      "Mapiran read u svom paru:  True\n",
      "Nemapiran read:  False\n",
      "Nemapiran par read-a:  False\n",
      "Reverse/forward strand:  False\n",
      "Reverse/forward strand para:  True\n",
      "Read je prvi read u paru:  False\n",
      "Read je drugi read u paru:  True\n",
      "Poravnanje nije primarno: False\n",
      "Read nije uspešno proverio kvalitet: False\n",
      "Read je ili PCR ili optički duplikat: False\n",
      "\n",
      "\n",
      "Informacije o  3 . read-u:\n",
      "C0HVYACXX120402:5:1304:16767:148118\t99\t#20\t9483250\t27\t76M\t#20\t9483361\t187\tTTTCAAACAGTATCTATGCCTGCCAAATGTGAACATATAAAAAAAAACCAGAATGTGCCATTCTGATTTAAACTGC\tarray('B', [32, 28, 28, 33, 31, 35, 36, 38, 31, 42, 21, 32, 29, 37, 35, 31, 32, 41, 40, 37, 36, 40, 40, 38, 34, 37, 36, 33, 41, 31, 41, 34, 36, 40, 35, 33, 32, 32, 32, 37, 37, 35, 37, 37, 36, 37, 35, 40, 38, 35, 41, 35, 37, 32, 41, 31, 36, 39, 37, 33, 32, 34, 38, 37, 39, 34, 31, 35, 33, 31, 35, 34, 35, 30, 29, 34])\t[('XA', 'GL000217.1,-110753,76M,1;'), ('BD', 'NNNNNNNNNNNNNNNNNNNNNNNNNNNNNNNNNNNNNNNNNNNNNNNNNNNNNNNNNNNNNNNNNNNNNNNNNNNN'), ('MD', '76'), ('RG', '1'), ('BI', 'NNNNNNNNNNNNNNNNNNNNNNNNNNNNNNNNNNNNNNNNNNNNNNNNNNNNNNNNNNNNNNNNNNNNNNNNNNNN'), ('NM', 0), ('MQ', 27), ('AS', 76), ('XS', 71)]\n",
      "\n",
      "\n",
      "QNAME  3 : C0HVYACXX120402:5:1304:16767:148118\n",
      "FLAG  3 : 99\n",
      "RNAME  3 : 20\n",
      "POS  3 : 9483249\n",
      "MAPQ  3 : 27\n",
      "CIGAR  3 : 76M\n",
      "MRNM  3 : 20\n",
      "MPOS  3 : 9483360\n",
      "ISIZE  3 : 187\n",
      "SEQ  3 : TTTCAAACAGTATCTATGCCTGCCAAATGTGAACATATAAAAAAAAACCAGAATGTGCCATTCTGATTTAAACTGC\n",
      "QUAL  3 : A==B@DEG@K6A>FD@AJIFEIIGCFEBJ@JCEIDBAAAFFDFFEFDIGDJDFAJ@EHFBACGFHC@DB@DCD?>C\n",
      "TAGS  3 : [('XA', 'GL000217.1,-110753,76M,1;'), ('BD', 'NNNNNNNNNNNNNNNNNNNNNNNNNNNNNNNNNNNNNNNNNNNNNNNNNNNNNNNNNNNNNNNNNNNNNNNNNNNN'), ('MD', '76'), ('RG', '1'), ('BI', 'NNNNNNNNNNNNNNNNNNNNNNNNNNNNNNNNNNNNNNNNNNNNNNNNNNNNNNNNNNNNNNNNNNNNNNNNNNNN'), ('NM', 0), ('MQ', 27), ('AS', 76), ('XS', 71)]\n",
      "\n",
      "Informacije o flegu read-a  3 :\n",
      "Uparen read u sekvenciranju:  True\n",
      "Mapiran read u svom paru:  True\n",
      "Nemapiran read:  False\n",
      "Nemapiran par read-a:  False\n",
      "Reverse/forward strand:  False\n",
      "Reverse/forward strand para:  True\n",
      "Read je prvi read u paru:  True\n",
      "Read je drugi read u paru:  False\n",
      "Poravnanje nije primarno: False\n",
      "Read nije uspešno proverio kvalitet: False\n",
      "Read je ili PCR ili optički duplikat: False\n",
      "\n",
      "\n",
      "Informacije o  4 . read-u:\n",
      "C0HVYACXX120402:8:1101:6314:155036\t99\t#20\t9483264\t51\t76M\t#20\t9483294\t106\tTATGCCTGCCAAATGTGAACATATAAAAAAAAACCAGAATGTGCCATTCTGATTTAAACTGCTTATTAGTTAAAAC\tarray('B', [32, 29, 28, 34, 36, 37, 36, 42, 38, 37, 34, 36, 36, 31, 40, 31, 42, 34, 36, 40, 34, 33, 31, 33, 30, 36, 35, 37, 35, 36, 36, 36, 36, 40, 37, 34, 42, 34, 36, 33, 41, 33, 41, 40, 37, 35, 32, 34, 41, 36, 41, 35, 32, 35, 34, 31, 37, 37, 39, 37, 43, 39, 37, 31, 31, 31, 33, 31, 41, 30, 34, 31, 32, 30, 31, 34])\t[('XA', 'GL000217.1,-110739,76M,1;'), ('BD', 'NNNNNNNNNNNNNNNNNNNNNNNNNNNNNNNNNNNNNNNNNNNNNNNNNNNNNNNNNNNNNNNNNNNNNNNNNNNN'), ('MD', '76'), ('RG', '1'), ('BI', 'NNNNNNNNNNNNNNNNNNNNNNNNNNNNNNNNNNNNNNNNNNNNNNNNNNNNNNNNNNNNNNNNNNNNNNNNNNNN'), ('NM', 0), ('MQ', 49), ('AS', 76), ('XS', 71)]\n",
      "\n",
      "\n",
      "QNAME  4 : C0HVYACXX120402:8:1101:6314:155036\n",
      "FLAG  4 : 99\n",
      "RNAME  4 : 20\n",
      "POS  4 : 9483263\n",
      "MAPQ  4 : 51\n",
      "CIGAR  4 : 76M\n",
      "MRNM  4 : 20\n",
      "MPOS  4 : 9483293\n",
      "ISIZE  4 : 106\n",
      "SEQ  4 : TATGCCTGCCAAATGTGAACATATAAAAAAAAACCAGAATGTGCCATTCTGATTTAAACTGCTTATTAGTTAAAAC\n",
      "QUAL  4 : A>=CEFEKGFCEE@I@KCEICB@B?EDFDEEEEIFCKCEBJBJIFDACJEJDADC@FFHFLHF@@@B@J?C@A?@C\n",
      "TAGS  4 : [('XA', 'GL000217.1,-110739,76M,1;'), ('BD', 'NNNNNNNNNNNNNNNNNNNNNNNNNNNNNNNNNNNNNNNNNNNNNNNNNNNNNNNNNNNNNNNNNNNNNNNNNNNN'), ('MD', '76'), ('RG', '1'), ('BI', 'NNNNNNNNNNNNNNNNNNNNNNNNNNNNNNNNNNNNNNNNNNNNNNNNNNNNNNNNNNNNNNNNNNNNNNNNNNNN'), ('NM', 0), ('MQ', 49), ('AS', 76), ('XS', 71)]\n",
      "\n",
      "Informacije o flegu read-a  4 :\n",
      "Uparen read u sekvenciranju:  True\n",
      "Mapiran read u svom paru:  True\n",
      "Nemapiran read:  False\n",
      "Nemapiran par read-a:  False\n",
      "Reverse/forward strand:  False\n",
      "Reverse/forward strand para:  True\n",
      "Read je prvi read u paru:  True\n",
      "Read je drugi read u paru:  False\n",
      "Poravnanje nije primarno: False\n",
      "Read nije uspešno proverio kvalitet: False\n",
      "Read je ili PCR ili optički duplikat: False\n"
     ]
    }
   ],
   "source": [
    "j=1\n",
    "for read in bamfile:\n",
    "    print(f'Informacije o ',j,'. read-u:')\n",
    "    print(read)\n",
    "    print(f'\\n')\n",
    "    print(f'QNAME ',j,':',read.qname)\n",
    "    print(f'FLAG ',j,':',read.flag)\n",
    "    print(f'RNAME ',j,':',read.rname)\n",
    "    print(f'POS ',j,':', read.pos)\n",
    "    print(f'MAPQ ',j,':',read.mapq)\n",
    "    print(f'CIGAR ',j,':',read.cigarstring)\n",
    "    print(f'MRNM ',j,':',read.mrnm)\n",
    "    print(f'MPOS ',j,':', read.mpos)\n",
    "    print(f'ISIZE ',j,':', read.isize)\n",
    "    print(f'SEQ ',j,':', read.seq)\n",
    "    print(f'QUAL ',j,':', read.qual)\n",
    "    print(f'TAGS ',j,':', read.get_tags())\n",
    "    print(f'\\nInformacije o flegu read-a ',j,':')\n",
    "    print(f'Uparen read u sekvenciranju: ',read.is_paired)\n",
    "    print(f'Mapiran read u svom paru: ',read.is_proper_pair)\n",
    "    print(f'Nemapiran read: ',read.is_unmapped)\n",
    "    print(f'Nemapiran par read-a: ',read.mate_is_unmapped)\n",
    "    print(f'Reverse/forward strand: ',read.is_reverse)\n",
    "    print(f'Reverse/forward strand para: ',read.mate_is_reverse)\n",
    "    print(f'Read je prvi read u paru: ',read.is_read1)\n",
    "    print(f'Read je drugi read u paru: ',read.is_read2)\n",
    "    print(f'Poravnanje nije primarno:', read.is_secondary)\n",
    "    print(f'Read nije uspešno proverio kvalitet:', read.is_qcfail)\n",
    "    print(f'Read je ili PCR ili optički duplikat:' , read.is_duplicate)\n",
    "    j=j+1\n",
    "    if (j==5):\n",
    "        break\n",
    "    print(f'\\n')\n",
    "#bamfile.close()"
   ]
  },
  {
   "cell_type": "markdown",
   "id": "a3424b34-ec13-455c-9673-e155452e1dcb",
   "metadata": {},
   "source": [
    "**Informacije o  1 . read-u:**\n",
    "C0HVYACXX120402:7:1207:5722:57044\t1187\t#20\t9483249\t27\t76M\t#20\t9483382\t209\tTTTTCAAACAGTATCTATGCCTGCCAAATGTGAACATATAAAAAAAAACCAGAATGTGCCATTCTGATTTAAACTG\tarray('B', [28, 28, 27, 29, 31, 30, 31, 31, 29, 31, 35, 30, 29, 31, 34, 30, 29, 23, 41, 32, 20, 30, 29, 34, 34, 29, 30, 31, 30, 30, 30, 33, 33, 26, 39, 12, 25, 19, 32, 30, 35, 28, 35, 33, 23, 33, 35, 36, 30, 38, 33, 41, 34, 35, 31, 33, 23, 30, 30, 36, 27, 32, 29, 34, 35, 41, 33, 31, 33, 29, 32, 32, 31, 31, 31, 34])\t[('XA', 'GL000217.1,-110754,76M,1;'), ('BD', 'NNNNNNNNNNNNNNNNNNNNNNNNNNNNNNNNNNNNNNNNNNNNNNNNNNNNNNNNNNNNNNNNNNNNNNNNNNNN'), ('MD', '76'), ('RG', '1'), ('BI', 'NNNNNNNNNNNNNNNNNNNNNNNNNNNNNNNNNNNNNNNNNNNNNNNNNNNNNNNNNNNNNNNNNNNNNNNNNNNN'), ('NM', 0), ('MQ', 27), ('AS', 76), ('XS', 71)]\n",
    "\n",
    "\n",
    "**QNAME  1 :** C0HVYACXX120402:7:1207:5722:57044\n",
    "**FLAG  1 :** 1187\n",
    "**RNAME  1 :** 20\n",
    "**POS  1 :** 9483248\n",
    "**MAPQ  1 :** 27\n",
    "**CIGAR  1 :** 76M\n",
    "**MRNM  1 :** 20\n",
    "**MPOS  1 :** 9483381\n",
    "**ISIZE  1 :** 209\n",
    "**SEQ  1 :** TTTTCAAACAGTATCTATGCCTGCCAAATGTGAACATATAAAAAAAAACCAGAATGTGCCATTCTGATTTAAACTG\n",
    "**QUAL  1 :** ==<>@?@@>@D?>@C?>8JA5?>CC>?@???BB;H-:4A?D=DB8BDE?GBJCD@B8??E<A>CDJB@B>AA@@@C\n",
    "**TAGS  1 :** [('XA', 'GL000217.1,-110754,76M,1;'), ('BD', 'NNNNNNNNNNNNNNNNNNNNNNNNNNNNNNNNNNNNNNNNNNNNNNNNNNNNNNNNNNNNNNNNNNNNNNNNNNNN'), ('MD', '76'), ('RG', '1'), ('BI', 'NNNNNNNNNNNNNNNNNNNNNNNNNNNNNNNNNNNNNNNNNNNNNNNNNNNNNNNNNNNNNNNNNNNNNNNNNNNN'), ('NM', 0), ('MQ', 27), ('AS', 76), ('XS', 71)]\n",
    "\n",
    "**Informacije o flegu read-a  1 :**\n",
    "**Uparen read u sekvenciranju:** True\n",
    "**Mapiran read u svom paru:**  True\n",
    "**Nemapiran read:**  False\n",
    "**Nemapiran par read-a:**  False\n",
    "**Reverse/forward strand:**  False\n",
    "**Reverse/forward strand para:**  True\n",
    "**Read je prvi read u paru:**  False\n",
    "**Read je drugi read u paru:**  True\n",
    "**Poravnanje nije primarno:** False\n",
    "**Read nije uspešno proverio kvalitet:** False\n",
    "**Read je ili PCR ili optički duplikat:** True\n",
    "\n",
    "\n",
    "**Informacije o  2 . read-u:**\n",
    "D0RE2ACXX120401:1:2105:2631:113383\t163\t#20\t9483249\t27\t76M\t#20\t9483382\t209\tTTTTCAAACAGTATCTATGCCTGCCAAATGTGAACATATAAAAAAAAACCAGAATGTGCCATTCTGATTTAAACTG\tarray('B', [28, 29, 27, 30, 31, 30, 31, 31, 34, 31, 40, 30, 29, 34, 41, 34, 29, 33, 39, 40, 37, 36, 30, 39, 36, 34, 29, 35, 26, 41, 31, 33, 31, 35, 39, 34, 34, 29, 34, 31, 36, 37, 35, 35, 33, 35, 36, 35, 40, 37, 34, 39, 30, 29, 28, 15, 19, 30, 36, 36, 36, 33, 33, 38, 34, 37, 33, 30, 33, 33, 29, 34, 32, 30, 31, 29])\t[('XA', 'GL000217.1,-110754,76M,1;'), ('BD', 'NNNNNNNNNNNNNNNNNNNNNNNNNNNNNNNNNNNNNNNNNNNNNNNNNNNNNNNNNNNNNNNNNNNNNNNNNNNN'), ('MD', '76'), ('RG', '1'), ('BI', 'NNNNNNNNNNNNNNNNNNNNNNNNNNNNNNNNNNNNNNNNNNNNNNNNNNNNNNNNNNNNNNNNNNNNNNNNNNNN'), ('NM', 0), ('MQ', 27), ('AS', 76), ('XS', 71)]\n",
    "\n",
    "\n",
    "**QNAME  2 :** D0RE2ACXX120401:1:2105:2631:113383\n",
    "**FLAG  2 :** 163\n",
    "**RNAME  2 :** 20\n",
    "**POS  2 :** 9483248\n",
    "**MAPQ  2 :** 27\n",
    "**CIGAR  2 :** 76M\n",
    "**MRNM  2 :** 20\n",
    "**MPOS  2 :** 9483381\n",
    "**ISIZE  2 :** 209\n",
    "**SEQ  2 :** TTTTCAAACAGTATCTATGCCTGCCAAATGTGAACATATAAAAAAAAACCAGAATGTGCCATTCTGATTTAAACTG\n",
    "**QUAL  2 :** =><?@?@@C@I?>CJC>BHIFE?HEC>D;J@B@DHCC>C@EFDDBDEDIFCH?>=04?EEEBBGCFB?BB>CA?@>\n",
    "**TAGS  2 :** [('XA', 'GL000217.1,-110754,76M,1;'), ('BD', 'NNNNNNNNNNNNNNNNNNNNNNNNNNNNNNNNNNNNNNNNNNNNNNNNNNNNNNNNNNNNNNNNNNNNNNNNNNNN'), ('MD', '76'), ('RG', '1'), ('BI', 'NNNNNNNNNNNNNNNNNNNNNNNNNNNNNNNNNNNNNNNNNNNNNNNNNNNNNNNNNNNNNNNNNNNNNNNNNNNN'), ('NM', 0), ('MQ', 27), ('AS', 76), ('XS', 71)]\n",
    "\n",
    "**Informacije o flegu read-a  2 :**\n",
    "**Uparen read u sekvenciranju:**  True\n",
    "**Mapiran read u svom paru:**  True\n",
    "**Nemapiran read:**  False\n",
    "**Nemapiran par read-a:**  False\n",
    "**Reverse/forward strand:**  False\n",
    "**Reverse/forward strand para:**  True\n",
    "**Read je prvi read u paru:**  False\n",
    "**Read je drugi read u paru:**  True\n",
    "**Poravnanje nije primarno:** False\n",
    "**Read nije uspešno proverio kvalitet:** False\n",
    "**Read je ili PCR ili optički duplikat:** False\n"
   ]
  },
  {
   "cell_type": "code",
   "execution_count": 5,
   "id": "361443ba-f7ac-4fe5-bd73-611c19728288",
   "metadata": {},
   "outputs": [
    {
     "name": "stdout",
     "output_type": "stream",
     "text": [
      "Ukupan broj nemapiranih read-ova 17765\n"
     ]
    }
   ],
   "source": [
    "unmapnum=0\n",
    "for read in bamfile.fetch():\n",
    "    if read.is_unmapped:\n",
    "        unmapnum=unmapnum+1\n",
    "print(f'Ukupan broj nemapiranih read-ova',unmapnum)"
   ]
  },
  {
   "cell_type": "markdown",
   "id": "4442ad93-83a2-48d8-bd85-ba6d7c925d54",
   "metadata": {},
   "source": [
    "Ukupan broj nemapiranih read-ova **17765**"
   ]
  },
  {
   "cell_type": "code",
   "execution_count": 6,
   "id": "9f542e4b-3f32-4323-afe1-08c7cde39961",
   "metadata": {},
   "outputs": [
    {
     "name": "stdout",
     "output_type": "stream",
     "text": [
      "Ukupan broj read-ova: 2921629\n"
     ]
    }
   ],
   "source": [
    "num=bamfile.count()\n",
    "print(f'Ukupan broj read-ova:',num)"
   ]
  },
  {
   "cell_type": "markdown",
   "id": "7d64c6ee-07e4-4b01-8ba3-cbbee1001e9a",
   "metadata": {},
   "source": [
    "Ukupan broj read-ova: **2921629**"
   ]
  },
  {
   "cell_type": "code",
   "execution_count": 7,
   "id": "70ed15a9-1b6d-41a3-ac9f-07541a5a2cc3",
   "metadata": {},
   "outputs": [
    {
     "name": "stdout",
     "output_type": "stream",
     "text": [
      "Broj read-ova sa kvalitetom mapiranja 0: 126628\n"
     ]
    }
   ],
   "source": [
    "zeroqual_num=0\n",
    "for read in bamfile.fetch():\n",
    "    if read.mapq==0:\n",
    "        zeroqual_num=zeroqual_num+1\n",
    "print(f'Broj read-ova sa kvalitetom mapiranja 0:',zeroqual_num)"
   ]
  },
  {
   "cell_type": "markdown",
   "id": "62c6bd9d-2416-42c7-ab4c-a05a1d698123",
   "metadata": {},
   "source": [
    "Broj read-ova sa kvalitetom mapiranja 0: **126628**"
   ]
  },
  {
   "cell_type": "code",
   "execution_count": 9,
   "id": "a2fdc2f1-6aa6-4152-b34a-232e2d64fff2",
   "metadata": {},
   "outputs": [
    {
     "name": "stdout",
     "output_type": "stream",
     "text": [
      "Prosečni kvalitet mapiranja svih read-ova: 55.91379158681681\n"
     ]
    }
   ],
   "source": [
    "sum=0\n",
    "for read in bamfile.fetch():\n",
    "    sum=sum+read.mapq\n",
    "print(f'Prosečni kvalitet mapiranja svih read-ova:',sum/num)"
   ]
  },
  {
   "cell_type": "markdown",
   "id": "b395786f-f47e-4d02-a8eb-f646fe6c175a",
   "metadata": {},
   "source": [
    "Prosečni kvalitet mapiranja svih read-ova: **55.91379158681681**"
   ]
  },
  {
   "cell_type": "code",
   "execution_count": 10,
   "id": "6ee2ffe8-b797-42d9-a88f-7b56159c915d",
   "metadata": {},
   "outputs": [
    {
     "name": "stdout",
     "output_type": "stream",
     "text": [
      "Prosečni kvalitet mapiranja svih read-ova sa kvalitetom različitim od 0: 58.446975510921106\n"
     ]
    }
   ],
   "source": [
    "#prvi nacin\n",
    "sum2=0\n",
    "numNonZero=0\n",
    "for read in bamfile.fetch():\n",
    "    if read.mapq!=0:\n",
    "        sum2=sum2+read.mapq\n",
    "        numNonZero=numNonZero+1\n",
    "print(f'Prosečni kvalitet mapiranja svih read-ova sa kvalitetom različitim od 0:',sum2/numNonZero)"
   ]
  },
  {
   "cell_type": "markdown",
   "id": "a153794a-a13a-4dea-9caf-9c2440f5a3f9",
   "metadata": {},
   "source": [
    "Prosečni kvalitet mapiranja svih read-ova sa kvalitetom različitim od 0 dobijen na prvi način: **58.446975510921106**"
   ]
  },
  {
   "cell_type": "code",
   "execution_count": 12,
   "id": "754f0192-5ca0-4820-9c85-2506d4872112",
   "metadata": {},
   "outputs": [
    {
     "name": "stdout",
     "output_type": "stream",
     "text": [
      "Prosečni kvalitet mapiranja svih read-ova sa kvalitetom različitim od 0: 58.446975510921106\n"
     ]
    }
   ],
   "source": [
    "#drugi nacin\n",
    "print(f'Prosečni kvalitet mapiranja svih read-ova sa kvalitetom različitim od 0:',sum/(num-zeroqual_num))"
   ]
  },
  {
   "cell_type": "markdown",
   "id": "b471664d-4173-4038-b7d9-6df9be5d2a8b",
   "metadata": {},
   "source": [
    "Prosečni kvalitet mapiranja svih read-ova sa kvalitetom različitim od 0 dobijen na drugi način: **58.446975510921106**"
   ]
  },
  {
   "cell_type": "code",
   "execution_count": null,
   "id": "61b89f7d-c5cf-4f5b-8a06-3f755bf59fd8",
   "metadata": {},
   "outputs": [],
   "source": []
  }
 ],
 "metadata": {
  "kernelspec": {
   "display_name": "Python 3 (ipykernel)",
   "language": "python",
   "name": "python3"
  },
  "language_info": {
   "codemirror_mode": {
    "name": "ipython",
    "version": 3
   },
   "file_extension": ".py",
   "mimetype": "text/x-python",
   "name": "python",
   "nbconvert_exporter": "python",
   "pygments_lexer": "ipython3",
   "version": "3.9.10"
  }
 },
 "nbformat": 4,
 "nbformat_minor": 5
}
